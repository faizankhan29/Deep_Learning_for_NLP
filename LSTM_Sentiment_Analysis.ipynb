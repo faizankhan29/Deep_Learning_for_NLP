{
  "nbformat": 4,
  "nbformat_minor": 0,
  "metadata": {
    "colab": {
      "name": "LSTM Sentiment Analysis.ipynb",
      "version": "0.3.2",
      "provenance": [],
      "include_colab_link": true
    },
    "kernelspec": {
      "name": "python3",
      "display_name": "Python 3"
    }
  },
  "cells": [
    {
      "cell_type": "markdown",
      "metadata": {
        "id": "view-in-github",
        "colab_type": "text"
      },
      "source": [
        "<a href=\"https://colab.research.google.com/github/faizankhan29/Deep_Learning_for_NLP/blob/master/LSTM_Sentiment_Analysis.ipynb\" target=\"_parent\"><img src=\"https://colab.research.google.com/assets/colab-badge.svg\" alt=\"Open In Colab\"/></a>"
      ]
    },
    {
      "metadata": {
        "id": "T871EAlh34Zn",
        "colab_type": "text"
      },
      "cell_type": "markdown",
      "source": [
        "#LSTM Sentiment Analysis"
      ]
    },
    {
      "metadata": {
        "id": "tYQV1VKt4r2y",
        "colab_type": "text"
      },
      "cell_type": "markdown",
      "source": [
        "In this repository, we train a dataset for basic positive/negative sentiment analysis.\nReference:https://www.kaggle.com/ngyptr/lstm-sentiment-analysis-keras/notebook"
      ]
    },
    {
      "metadata": {
        "id": "IAhx_UdV4C60",
        "colab_type": "text"
      },
      "cell_type": "markdown",
      "source": [
        "Importing basic libraries."
      ]
    },
    {
      "metadata": {
        "id": "_63rocsTzIEJ",
        "colab_type": "code",
        "colab": {
          "base_uri": "https://localhost:8080/",
          "height": 35
        },
        "outputId": "1a11cc6b-262e-4884-f788-ad9da2014d0a"
      },
      "cell_type": "code",
      "source": [
        "import numpy as np # linear algebra\n",
        "import pandas as pd # data processing, CSV file I/O (e.g. pd.read_csv)\n",
        "\n",
        "from sklearn.feature_extraction.text import CountVectorizer\n",
        "from keras.preprocessing.text import Tokenizer\n",
        "from keras.preprocessing.sequence import pad_sequences\n",
        "from keras.models import Sequential\n",
        "from keras.layers import Dense, Embedding, LSTM, SpatialDropout1D\n",
        "from sklearn.model_selection import train_test_split\n",
        "from keras.utils.np_utils import to_categorical\n",
        "import re"
      ],
      "execution_count": 1,
      "outputs": [
        {
          "output_type": "stream",
          "text": [
            "Using TensorFlow backend.\n"
          ],
          "name": "stderr"
        }
      ]
    },
    {
      "metadata": {
        "id": "u9ItR8Oy32gt",
        "colab_type": "text"
      },
      "cell_type": "markdown",
      "source": [
        "Loading the data."
      ]
    },
    {
      "metadata": {
        "id": "4YX_EiFuzN-e",
        "colab_type": "code",
        "colab": {}
      },
      "cell_type": "code",
      "source": [
        "data = pd.read_csv('Sentiment.csv')\n",
        "# Keeping only the neccessary columns\n",
        "data = data[['text','sentiment']]"
      ],
      "execution_count": 0,
      "outputs": []
    },
    {
      "metadata": {
        "id": "sjNP0dTg4-2K",
        "colab_type": "text"
      },
      "cell_type": "markdown",
      "source": [
        "Cleaning the data."
      ]
    },
    {
      "metadata": {
        "id": "DUEzCtgTz4vz",
        "colab_type": "code",
        "colab": {
          "base_uri": "https://localhost:8080/",
          "height": 51
        },
        "outputId": "b3b9793d-d34e-4943-95d1-daf1d534abe0"
      },
      "cell_type": "code",
      "source": [
        "data = data[data.sentiment != \"Neutral\"]\n",
        "data['text'] = data['text'].apply(lambda x: x.lower())\n",
        "data['text'] = data['text'].apply((lambda x: re.sub('[^a-zA-z0-9\\s]','',x)))\n",
        "\n",
        "print(data[ data['sentiment'] == 'Positive'].size)\n",
        "print(data[ data['sentiment'] == 'Negative'].size)\n",
        "\n",
        "for idx,row in data.iterrows():\n",
        "    row[0] = row[0].replace('rt',' ')\n",
        "    \n",
        "max_fatures = 2000\n",
        "tokenizer = Tokenizer(num_words=max_fatures, split=' ')\n",
        "tokenizer.fit_on_texts(data['text'].values)\n",
        "X = tokenizer.texts_to_sequences(data['text'].values)\n",
        "X = pad_sequences(X)"
      ],
      "execution_count": 9,
      "outputs": [
        {
          "output_type": "stream",
          "text": [
            "4472\n",
            "16986\n"
          ],
          "name": "stdout"
        }
      ]
    },
    {
      "metadata": {
        "id": "-6FEVkpf5EpC",
        "colab_type": "text"
      },
      "cell_type": "markdown",
      "source": [
        "Defining the model."
      ]
    },
    {
      "metadata": {
        "id": "RbJhaki0z5sx",
        "colab_type": "code",
        "colab": {
          "base_uri": "https://localhost:8080/",
          "height": 288
        },
        "outputId": "83b563b3-a9dc-4351-a2d4-dd2b48d04a24"
      },
      "cell_type": "code",
      "source": [
        "embed_dim = 128\n",
        "lstm_out = 196\n",
        "\n",
        "model = Sequential()\n",
        "model.add(Embedding(max_fatures, embed_dim,input_length = X.shape[1]))\n",
        "model.add(SpatialDropout1D(0.4))\n",
        "model.add(LSTM(lstm_out, dropout=0.2, recurrent_dropout=0.2))\n",
        "model.add(Dense(2,activation='softmax'))\n",
        "model.compile(loss = 'categorical_crossentropy', optimizer='adam',metrics = ['accuracy'])\n",
        "print(model.summary())"
      ],
      "execution_count": 4,
      "outputs": [
        {
          "output_type": "stream",
          "text": [
            "_________________________________________________________________\n",
            "Layer (type)                 Output Shape              Param #   \n",
            "=================================================================\n",
            "embedding_1 (Embedding)      (None, 28, 128)           256000    \n",
            "_________________________________________________________________\n",
            "spatial_dropout1d_1 (Spatial (None, 28, 128)           0         \n",
            "_________________________________________________________________\n",
            "lstm_1 (LSTM)                (None, 196)               254800    \n",
            "_________________________________________________________________\n",
            "dense_1 (Dense)              (None, 2)                 394       \n",
            "=================================================================\n",
            "Total params: 511,194\n",
            "Trainable params: 511,194\n",
            "Non-trainable params: 0\n",
            "_________________________________________________________________\n",
            "None\n"
          ],
          "name": "stdout"
        }
      ]
    },
    {
      "metadata": {
        "id": "mOgnFpgC5K6k",
        "colab_type": "text"
      },
      "cell_type": "markdown",
      "source": [
        "Splitting the data into training and test values."
      ]
    },
    {
      "metadata": {
        "id": "DsYDQkGe2r2i",
        "colab_type": "code",
        "colab": {
          "base_uri": "https://localhost:8080/",
          "height": 51
        },
        "outputId": "2450a562-220c-42f3-dc39-7a41f1680845"
      },
      "cell_type": "code",
      "source": [
        "Y = pd.get_dummies(data['sentiment']).values\n",
        "X_train, X_test, Y_train, Y_test = train_test_split(X,Y, test_size = 0.33, random_state = 42)\n",
        "print(X_train.shape,Y_train.shape)\n",
        "print(X_test.shape,Y_test.shape)"
      ],
      "execution_count": 5,
      "outputs": [
        {
          "output_type": "stream",
          "text": [
            "(7188, 28) (7188, 2)\n",
            "(3541, 28) (3541, 2)\n"
          ],
          "name": "stdout"
        }
      ]
    },
    {
      "metadata": {
        "id": "HZfFFCxM5TMf",
        "colab_type": "text"
      },
      "cell_type": "markdown",
      "source": [
        "Training the model."
      ]
    },
    {
      "metadata": {
        "id": "uGUomZU32yEH",
        "colab_type": "code",
        "colab": {
          "base_uri": "https://localhost:8080/",
          "height": 271
        },
        "outputId": "acc81388-85ca-4dcb-d0c3-3801e49558ec"
      },
      "cell_type": "code",
      "source": [
        "batch_size = 32\n",
        "model.fit(X_train, Y_train, epochs = 7, batch_size=batch_size, verbose = 2)"
      ],
      "execution_count": 6,
      "outputs": [
        {
          "output_type": "stream",
          "text": [
            "Epoch 1/7\n",
            " - 19s - loss: 0.4396 - acc: 0.8119\n",
            "Epoch 2/7\n",
            " - 18s - loss: 0.3224 - acc: 0.8663\n",
            "Epoch 3/7\n",
            " - 18s - loss: 0.2825 - acc: 0.8845\n",
            "Epoch 4/7\n",
            " - 18s - loss: 0.2519 - acc: 0.8961\n",
            "Epoch 5/7\n",
            " - 18s - loss: 0.2239 - acc: 0.9073\n",
            "Epoch 6/7\n",
            " - 18s - loss: 0.1981 - acc: 0.9238\n",
            "Epoch 7/7\n",
            " - 18s - loss: 0.1848 - acc: 0.9264\n"
          ],
          "name": "stdout"
        },
        {
          "output_type": "execute_result",
          "data": {
            "text/plain": [
              "<keras.callbacks.History at 0x7f3183eb5710>"
            ]
          },
          "metadata": {
            "tags": []
          },
          "execution_count": 6
        }
      ]
    },
    {
      "metadata": {
        "id": "OvnFG_t05XdB",
        "colab_type": "text"
      },
      "cell_type": "markdown",
      "source": [
        "Calculating accuracy on validation set."
      ]
    },
    {
      "metadata": {
        "id": "rRxWR2yU22Xv",
        "colab_type": "code",
        "colab": {
          "base_uri": "https://localhost:8080/",
          "height": 51
        },
        "outputId": "d564b814-d0cf-4c5f-a0c2-e4f2873820c6"
      },
      "cell_type": "code",
      "source": [
        "validation_size = 1500\n",
        "\n",
        "X_validate = X_test[-validation_size:]\n",
        "Y_validate = Y_test[-validation_size:]\n",
        "X_test = X_test[:-validation_size]\n",
        "Y_test = Y_test[:-validation_size]\n",
        "score,acc = model.evaluate(X_test, Y_test, verbose = 2, batch_size = batch_size)\n",
        "print(\"score: %.2f\" % (score))\n",
        "print(\"acc: %.2f\" % (acc))"
      ],
      "execution_count": 7,
      "outputs": [
        {
          "output_type": "stream",
          "text": [
            "score: 0.47\n",
            "acc: 0.85\n"
          ],
          "name": "stdout"
        }
      ]
    },
    {
      "metadata": {
        "id": "7cIuOOTK5bkA",
        "colab_type": "text"
      },
      "cell_type": "markdown",
      "source": [
        "Testing out a sentence."
      ]
    },
    {
      "metadata": {
        "id": "4RWP9vE13c9j",
        "colab_type": "code",
        "colab": {
          "base_uri": "https://localhost:8080/",
          "height": 68
        },
        "outputId": "c7024c37-6875-4368-94ab-9d0dec30abfa"
      },
      "cell_type": "code",
      "source": [
        "twt = ['Meetings: Because none of us is as dumb as all of us.']\n",
        "#vectorizing the tweet by the pre-fitted tokenizer instance\n",
        "twt = tokenizer.texts_to_sequences(twt)\n",
        "#padding the tweet to have exactly the same shape as `embedding_2` input\n",
        "twt = pad_sequences(twt, maxlen=28, dtype='int32', value=0)\n",
        "print(twt)\n",
        "sentiment = model.predict(twt,batch_size=1,verbose = 2)[0]\n",
        "if(np.argmax(sentiment) == 0):\n",
        "    print(\"negative\")\n",
        "elif (np.argmax(sentiment) == 1):\n",
        "    print(\"positive\")"
      ],
      "execution_count": 8,
      "outputs": [
        {
          "output_type": "stream",
          "text": [
            "[[   0    0    0    0    0    0    0    0    0    0    0    0    0    0\n",
            "     0    0    0  206  633    6  150    5   55 1055   55   46    6  150]]\n",
            "negative\n"
          ],
          "name": "stdout"
        }
      ]
    },
    {
      "metadata": {
        "id": "V5YTkpAO3mZH",
        "colab_type": "code",
        "colab": {}
      },
      "cell_type": "code",
      "source": [
        ""
      ],
      "execution_count": 0,
      "outputs": []
    }
  ]
}
